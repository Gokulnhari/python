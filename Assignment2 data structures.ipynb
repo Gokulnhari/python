{
 "cells": [
  {
   "cell_type": "code",
   "execution_count": 3,
   "id": "93334e7e-60f0-4346-a46f-77d70577beff",
   "metadata": {},
   "outputs": [
    {
     "name": "stdout",
     "output_type": "stream",
     "text": [
      "['cow', 'dog', 'cat', 'giraffe', 'elephant']\n"
     ]
    }
   ],
   "source": [
    "# List Exercise \n",
    "\n",
    "# Q1. Create a list of 5 random numbers and print the list. \n",
    "\n",
    "animals = ['cow', 'dog', 'cat', 'giraffe', 'elephant']\n",
    "print(animals)"
   ]
  },
  {
   "cell_type": "code",
   "execution_count": 11,
   "id": "207a01f1-4eb7-44a8-af06-d1b0e55e3288",
   "metadata": {},
   "outputs": [
    {
     "name": "stdout",
     "output_type": "stream",
     "text": [
      "['cow', 'dog', 'cat', 'giraffe', 'elephant', 'Sheep', 'Sheep', 'Horse', 'Eagle', 'Sheep', 'Horse', 'Eagle']\n"
     ]
    }
   ],
   "source": [
    "# Q2. Insert 3 new values to the list and print the updated list. \n",
    "\n",
    "animals.append('Sheep')\n",
    "animals.append('Horse')\n",
    "animals.append('Eagle')\n",
    "print(animals)"
   ]
  },
  {
   "cell_type": "code",
   "execution_count": 19,
   "id": "b21f7525-f9ad-4a8a-bd14-c01967147124",
   "metadata": {},
   "outputs": [
    {
     "data": {
      "text/plain": [
       "['cow', 'dog', 'cat', 'giraffe', 'elephant', 'Sheep', 'Horse', 'Eagle']"
      ]
     },
     "execution_count": 19,
     "metadata": {},
     "output_type": "execute_result"
    }
   ],
   "source": [
    "animals.pop(6)\n",
    "animals"
   ]
  },
  {
   "cell_type": "code",
   "execution_count": 3,
   "id": "9f57b23a-90c3-43d2-b419-1e1fa48908c9",
   "metadata": {},
   "outputs": [
    {
     "name": "stdout",
     "output_type": "stream",
     "text": [
      "The animals are: cow\n",
      "The animals are: cat\n",
      "The animals are: dog\n",
      "The animals are: horse\n",
      "The animals are: sheep\n"
     ]
    }
   ],
   "source": [
    "# Q3. Try to use a for loop to print each element in the list. \n",
    "\n",
    "Animals = ['cow', 'cat', 'dog', 'horse', 'sheep']\n",
    "\n",
    "for i in Animals:\n",
    "     print(\"The animals are:\", i)"
   ]
  },
  {
   "cell_type": "code",
   "execution_count": 5,
   "id": "e60f6589-e0a1-498b-a1b2-d4b6e83119cb",
   "metadata": {},
   "outputs": [
    {
     "name": "stdout",
     "output_type": "stream",
     "text": [
      "{'name': 'Gokul', 'age': 22, 'address': 'abc'}\n"
     ]
    }
   ],
   "source": [
    "# Dictionary Exercise \n",
    "\n",
    "# Q1. Create a dictionary with keys 'name', 'age', and 'address' and values 'John', 25, and 'New York' respectively. \n",
    "\n",
    "Survey = {'name':'Gokul','age':22,'address':'abc'}\n",
    "print(Survey)\n"
   ]
  },
  {
   "cell_type": "code",
   "execution_count": 7,
   "id": "c798e037-f5f3-44a2-81cd-2e0a7af7aa59",
   "metadata": {},
   "outputs": [
    {
     "name": "stdout",
     "output_type": "stream",
     "text": [
      "{'name': 'Gokul', 'age': 22, 'address': 'abc', 'Phone': 1234567890}\n"
     ]
    }
   ],
   "source": [
    "# Q2. Add a new key-value pair to the dictionary created in Q1 with key 'phone' and value '1234567890'. \n",
    "\n",
    "Survey['Phone'] = 1234567890\n",
    "print(Survey)\n",
    "\n",
    "\n"
   ]
  },
  {
   "cell_type": "code",
   "execution_count": 11,
   "id": "948e46f7-bce9-485a-9566-4c7ca41e630e",
   "metadata": {},
   "outputs": [
    {
     "name": "stdout",
     "output_type": "stream",
     "text": [
      "{1, 2, 3, 4, 5}\n"
     ]
    }
   ],
   "source": [
    "# Set Exercise \n",
    "\n",
    "# Q1.Create a set with values 1, 2, 3, 4, and 5. \n",
    "\n",
    "Numbers = {1,2,3,4,5}\n",
    "print(Numbers)"
   ]
  },
  {
   "cell_type": "code",
   "execution_count": 13,
   "id": "eec2acfb-ea16-4573-aa54-50bf20ca0f9e",
   "metadata": {},
   "outputs": [
    {
     "name": "stdout",
     "output_type": "stream",
     "text": [
      "{1, 2, 3, 4, 5, 6}\n"
     ]
    }
   ],
   "source": [
    "# Q2. Add the value 6 to the set created in Q1. \n",
    "\n",
    "Numbers.add(6)\n",
    "print(Numbers)"
   ]
  },
  {
   "cell_type": "code",
   "execution_count": 15,
   "id": "d87dfc26-8d4c-49dd-9aa3-98115a0d497b",
   "metadata": {},
   "outputs": [
    {
     "name": "stdout",
     "output_type": "stream",
     "text": [
      "{1, 2, 4, 5, 6}\n"
     ]
    }
   ],
   "source": [
    "# Q3. Remove the value 3 from the set created in Q1. \n",
    "\n",
    "Numbers.remove(3)\n",
    "print(Numbers)"
   ]
  },
  {
   "cell_type": "code",
   "execution_count": 17,
   "id": "71615d16-0b80-42a9-9876-d3b2656bf727",
   "metadata": {},
   "outputs": [
    {
     "name": "stdout",
     "output_type": "stream",
     "text": [
      "(1, 2, 3, 4)\n"
     ]
    }
   ],
   "source": [
    "# Tuple Exercise \n",
    "\n",
    "# Q1. Create a tuple with values 1, 2, 3, and 4 \n",
    "\n",
    "numbers=(1,2,3,4)\n",
    "print(numbers)"
   ]
  },
  {
   "cell_type": "code",
   "execution_count": 21,
   "id": "59634687-9570-4911-8aaa-fdd55c2a44e2",
   "metadata": {},
   "outputs": [
    {
     "name": "stdout",
     "output_type": "stream",
     "text": [
      "4\n"
     ]
    }
   ],
   "source": [
    "# Q2. Print the length of the tuple created in Q1.\n",
    "\n",
    "print(len(numbers))"
   ]
  },
  {
   "cell_type": "code",
   "execution_count": null,
   "id": "d245e1e7-3bd4-4982-8b4b-3bf8ae6d3be9",
   "metadata": {},
   "outputs": [],
   "source": []
  }
 ],
 "metadata": {
  "kernelspec": {
   "display_name": "Python 3 (ipykernel)",
   "language": "python",
   "name": "python3"
  },
  "language_info": {
   "codemirror_mode": {
    "name": "ipython",
    "version": 3
   },
   "file_extension": ".py",
   "mimetype": "text/x-python",
   "name": "python",
   "nbconvert_exporter": "python",
   "pygments_lexer": "ipython3",
   "version": "3.12.4"
  }
 },
 "nbformat": 4,
 "nbformat_minor": 5
}
