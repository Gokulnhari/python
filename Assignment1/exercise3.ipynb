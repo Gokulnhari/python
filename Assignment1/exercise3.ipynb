{
 "cells": [
  {
   "cell_type": "code",
   "execution_count": 1,
   "id": "17fd61fc-518e-4f88-bec2-5fb53ac217f6",
   "metadata": {},
   "outputs": [
    {
     "data": {
      "text/plain": [
       "'Exercise 3. Write Python code that add, subtract, multiply and divide the two numbers. You can use the two numbers 14 and 7. '"
      ]
     },
     "execution_count": 1,
     "metadata": {},
     "output_type": "execute_result"
    }
   ],
   "source": [
    "'''Exercise 3. Write Python code that add, subtract, multiply and divide the two numbers. You can use the two numbers 14 and 7. '''\n"
   ]
  },
  {
   "cell_type": "code",
   "execution_count": 7,
   "id": "ad3f98c9-ce2f-47ab-95b5-7c7814487fc4",
   "metadata": {},
   "outputs": [
    {
     "name": "stdout",
     "output_type": "stream",
     "text": [
      "14 + 7 = 21\n",
      "14 - 7 = 7\n",
      "14 * 7 = 98\n",
      "14 / 7 = 2\n"
     ]
    }
   ],
   "source": [
    "# Define the numbers\n",
    "num1 = 14\n",
    "num2 = 7\n",
    "\n",
    "# Perform addition\n",
    "addition = num1 + num2\n",
    "print(f\"{num1} + {num2} = {addition}\")\n",
    "\n",
    "# Perform subtraction\n",
    "subtraction = num1 - num2\n",
    "print(f\"{num1} - {num2} = {subtraction}\")\n",
    "\n",
    "# Perform multiplication\n",
    "multiplication = num1 * num2\n",
    "print(f\"{num1} * {num2} = {multiplication}\")\n",
    "\n",
    "# Perform division\n",
    "division = num1 / num2\n",
    "print(f\"{num1} / {num2} = {division:.0f}\")"
   ]
  },
  {
   "cell_type": "code",
   "execution_count": null,
   "id": "68edee73-7ae0-462e-87b2-5814e49fe666",
   "metadata": {},
   "outputs": [],
   "source": []
  }
 ],
 "metadata": {
  "kernelspec": {
   "display_name": "Python 3 (ipykernel)",
   "language": "python",
   "name": "python3"
  },
  "language_info": {
   "codemirror_mode": {
    "name": "ipython",
    "version": 3
   },
   "file_extension": ".py",
   "mimetype": "text/x-python",
   "name": "python",
   "nbconvert_exporter": "python",
   "pygments_lexer": "ipython3",
   "version": "3.12.4"
  }
 },
 "nbformat": 4,
 "nbformat_minor": 5
}
