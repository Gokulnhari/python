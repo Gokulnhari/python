{
 "cells": [
  {
   "cell_type": "code",
   "execution_count": 1,
   "id": "e7c34052-75cf-4505-b377-ea92e1edae70",
   "metadata": {},
   "outputs": [
    {
     "data": {
      "text/plain": [
       "'Exercise 1 Write Python code that prints your name, student number and email address.'"
      ]
     },
     "execution_count": 1,
     "metadata": {},
     "output_type": "execute_result"
    }
   ],
   "source": [
    "'''Exercise 1 Write Python code that prints your name, student number and email address.'''\n"
   ]
  },
  {
   "cell_type": "code",
   "execution_count": 3,
   "id": "623400f6-39a1-48bc-a326-39e9fa8558ed",
   "metadata": {},
   "outputs": [
    {
     "name": "stdout",
     "output_type": "stream",
     "text": [
      "Gokul\n",
      "A101\n",
      "gokul@gmail.com\n"
     ]
    }
   ],
   "source": [
    "name='Gokul'\n",
    "student_no='A101'\n",
    "email='gokul@gmail.com'\n",
    "\n",
    "print(name)\n",
    "print(student_no)\n",
    "print(email)"
   ]
  },
  {
   "cell_type": "code",
   "execution_count": null,
   "id": "e8556504-c2d6-4067-9167-b765317182cc",
   "metadata": {},
   "outputs": [],
   "source": []
  }
 ],
 "metadata": {
  "kernelspec": {
   "display_name": "Python 3 (ipykernel)",
   "language": "python",
   "name": "python3"
  },
  "language_info": {
   "codemirror_mode": {
    "name": "ipython",
    "version": 3
   },
   "file_extension": ".py",
   "mimetype": "text/x-python",
   "name": "python",
   "nbconvert_exporter": "python",
   "pygments_lexer": "ipython3",
   "version": "3.12.4"
  }
 },
 "nbformat": 4,
 "nbformat_minor": 5
}
