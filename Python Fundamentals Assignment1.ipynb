{
 "cells": [
  {
   "cell_type": "code",
   "execution_count": 31,
   "id": "04e7488e-5bc6-4794-906b-a6af7341bddb",
   "metadata": {},
   "outputs": [
    {
     "name": "stdout",
     "output_type": "stream",
     "text": [
      "Gokul 11 gokulnh99@gmail.com\n"
     ]
    }
   ],
   "source": [
    "# Exercise 1\n",
    "print(\"Gokul 11 gokulnh99@gmail.com\")"
   ]
  },
  {
   "cell_type": "code",
   "execution_count": 33,
   "id": "3dd541e1-3df7-47e2-a97e-d58540687da3",
   "metadata": {},
   "outputs": [
    {
     "name": "stdout",
     "output_type": "stream",
     "text": [
      "Gokul\n",
      "11\n",
      "gokulnh99@gmail.com\n"
     ]
    }
   ],
   "source": [
    "# Exercise 2\n",
    "print(\"Gokul\\n11\\ngokulnh99@gmail.com\")"
   ]
  },
  {
   "cell_type": "code",
   "execution_count": 25,
   "id": "69448097-0647-49af-b21e-8b001bfe3b5b",
   "metadata": {},
   "outputs": [
    {
     "name": "stdout",
     "output_type": "stream",
     "text": [
      "14+7 = 21\n",
      "14-7 = 7\n",
      "14*7 = 98\n",
      "14/7 = 2.0\n"
     ]
    }
   ],
   "source": [
    "# Exercise 3\n",
    "a= 14\n",
    "b= 7\n",
    "print(f\"{a}+{b} = {a+b}\")\n",
    "print(f\"{a}-{b} = {a-b}\")\n",
    "print(f\"{a}*{b} = {a*b}\")\n",
    "print(f\"{a}/{b} = {a/b}\")\n"
   ]
  },
  {
   "cell_type": "code",
   "execution_count": 27,
   "id": "00619c1b-53a7-4a05-af9c-7b2c7533783c",
   "metadata": {},
   "outputs": [
    {
     "name": "stdout",
     "output_type": "stream",
     "text": [
      "1\n",
      "2\n",
      "3\n",
      "4\n",
      "5\n"
     ]
    }
   ],
   "source": [
    "# Exercise 4\n",
    "for i in range(1,6):\n",
    "    print(i)\n"
   ]
  },
  {
   "cell_type": "code",
   "execution_count": 29,
   "id": "ea7ce1ed-40aa-455c-b168-97586e2bb92d",
   "metadata": {},
   "outputs": [
    {
     "name": "stdout",
     "output_type": "stream",
     "text": [
      "\"SDK\" stands for \"Software Development Kit\", whereas \"IDE\" stands for \"Integrated Development Environment\".\n"
     ]
    }
   ],
   "source": [
    "# Exercise 5\n",
    "print(\"\\\"SDK\\\" stands for \\\"Software Development Kit\\\", whereas \\\"IDE\\\" stands for \\\"Integrated Development Environment\\\".\")\n"
   ]
  },
  {
   "cell_type": "code",
   "execution_count": 33,
   "id": "72343003-40bd-4ce7-ba26-e410016b8df5",
   "metadata": {},
   "outputs": [
    {
     "name": "stdout",
     "output_type": "stream",
     "text": [
      "python is an \"awesome\" language.\n",
      "python\n",
      "\t2023\n",
      "I'm from Entri\n",
      "5\n",
      "e\n",
      "Entri\n",
      "2023\n",
      "Entr2023\n",
      "Entri*20"
     ]
    }
   ],
   "source": [
    "# Exercise 6\n",
    "print(\"python is an \\\"awesome\\\" language.\")\n",
    "print(\"python\\n\\t2023\")\n",
    "print('I\\'m from Entri.\\b') \n",
    "print(\"\\65\") \n",
    "print(\"\\x65\")\n",
    "print(\"Entri\", \"2023\", sep=\"\\n\")\n",
    "print(\"Entri\", \"2023\", sep=\"\\b\")\n",
    "print(\"Entri\", \"2023\", sep=\"*\", end=\"\\b\\b\\b\\b\")"
   ]
  },
  {
   "cell_type": "code",
   "execution_count": 41,
   "id": "dfe28fc6-73fa-4e8c-b915-205ebccfb8fe",
   "metadata": {},
   "outputs": [
    {
     "name": "stdout",
     "output_type": "stream",
     "text": [
      "Type of num: <class 'int'>\n",
      "Type of textnum:<class 'str'>\n",
      "Type of decimal:<class 'float'>\n",
      "Sum of variables:168.3\n",
      "Type of sum:<class 'float'>\n"
     ]
    }
   ],
   "source": [
    "# Exercise 7\n",
    "num = 13\n",
    "textnum = \"57\"\n",
    "decimal = 98.3\n",
    "\n",
    "print(f\"Type of num: {type(num)}\")\n",
    "print(f\"Type of textnum:{type(textnum)}\")\n",
    "print(f\"Type of decimal:{type(decimal)}\")\n",
    "\n",
    "sum = num + int(textnum) + decimal\n",
    "print(f\"Sum of variables:{sum}\")\n",
    "print(f\"Type of sum:{type(sum)}\")\n"
   ]
  },
  {
   "cell_type": "code",
   "execution_count": 43,
   "id": "6610276a-db79-4075-9414-95cda0ad8487",
   "metadata": {},
   "outputs": [
    {
     "name": "stdout",
     "output_type": "stream",
     "text": [
      "The total number of minutes in a year is: 525600\n"
     ]
    }
   ],
   "source": [
    "# Exercise 8\n",
    "days_in_year = 365\n",
    "hours_in_day = 24\n",
    "minutes_in_hour = 60\n",
    "\n",
    "total_minutes_in_year = days_in_year * hours_in_day * minutes_in_hour\n",
    "print(f\"The total number of minutes in a year is: {total_minutes_in_year}\")\n"
   ]
  },
  {
   "cell_type": "code",
   "execution_count": 45,
   "id": "17e07c8e-687d-40ec-afd2-3ae6ce3aacac",
   "metadata": {},
   "outputs": [
    {
     "name": "stdin",
     "output_type": "stream",
     "text": [
      "Please enter your name:  Aneeta\n"
     ]
    },
    {
     "name": "stdout",
     "output_type": "stream",
     "text": [
      "Hi Aneeta, welcome to Python programming :)\n"
     ]
    }
   ],
   "source": [
    "# Exercise 9\n",
    "name = input(\"Please enter your name: \")\n",
    "print(f\"Hi {name}, welcome to Python programming :)\")\n"
   ]
  },
  {
   "cell_type": "code",
   "execution_count": 47,
   "id": "3c89fa58-eefe-45ff-b0b3-63f107c1ac0a",
   "metadata": {},
   "outputs": [
    {
     "name": "stdin",
     "output_type": "stream",
     "text": [
      "Please enter amount in pounds: £ 11\n"
     ]
    },
    {
     "name": "stdout",
     "output_type": "stream",
     "text": [
      "£11.0 are $14.30\n"
     ]
    }
   ],
   "source": [
    "# Exercise 10\n",
    "pounds = float(input(\"Please enter amount in pounds: £\"))\n",
    "exchange_rate = 1.3 \n",
    "dollars = pounds * exchange_rate\n",
    "print(f\"£{pounds} are ${dollars:.2f}\")\n"
   ]
  },
  {
   "cell_type": "code",
   "execution_count": null,
   "id": "849c4414-4e3c-4a9e-853e-4c3e98c0eaf9",
   "metadata": {},
   "outputs": [],
   "source": []
  }
 ],
 "metadata": {
  "kernelspec": {
   "display_name": "Python 3 (ipykernel)",
   "language": "python",
   "name": "python3"
  },
  "language_info": {
   "codemirror_mode": {
    "name": "ipython",
    "version": 3
   },
   "file_extension": ".py",
   "mimetype": "text/x-python",
   "name": "python",
   "nbconvert_exporter": "python",
   "pygments_lexer": "ipython3",
   "version": "3.12.4"
  }
 },
 "nbformat": 4,
 "nbformat_minor": 5
}
